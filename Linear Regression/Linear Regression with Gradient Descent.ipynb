{
 "cells": [
  {
   "cell_type": "code",
   "execution_count": 1,
   "metadata": {},
   "outputs": [
    {
     "data": {
      "text/html": [
       "<div>\n",
       "<style scoped>\n",
       "    .dataframe tbody tr th:only-of-type {\n",
       "        vertical-align: middle;\n",
       "    }\n",
       "\n",
       "    .dataframe tbody tr th {\n",
       "        vertical-align: top;\n",
       "    }\n",
       "\n",
       "    .dataframe thead th {\n",
       "        text-align: right;\n",
       "    }\n",
       "</style>\n",
       "<table border=\"1\" class=\"dataframe\">\n",
       "  <thead>\n",
       "    <tr style=\"text-align: right;\">\n",
       "      <th></th>\n",
       "      <th>X</th>\n",
       "      <th>y</th>\n",
       "    </tr>\n",
       "  </thead>\n",
       "  <tbody>\n",
       "    <tr>\n",
       "      <th>0</th>\n",
       "      <td>53.426804</td>\n",
       "      <td>68.777596</td>\n",
       "    </tr>\n",
       "    <tr>\n",
       "      <th>1</th>\n",
       "      <td>61.530358</td>\n",
       "      <td>62.562382</td>\n",
       "    </tr>\n",
       "    <tr>\n",
       "      <th>2</th>\n",
       "      <td>47.475640</td>\n",
       "      <td>71.546632</td>\n",
       "    </tr>\n",
       "    <tr>\n",
       "      <th>3</th>\n",
       "      <td>59.813208</td>\n",
       "      <td>87.230925</td>\n",
       "    </tr>\n",
       "    <tr>\n",
       "      <th>4</th>\n",
       "      <td>55.142188</td>\n",
       "      <td>78.211518</td>\n",
       "    </tr>\n",
       "  </tbody>\n",
       "</table>\n",
       "</div>"
      ],
      "text/plain": [
       "           X          y\n",
       "0  53.426804  68.777596\n",
       "1  61.530358  62.562382\n",
       "2  47.475640  71.546632\n",
       "3  59.813208  87.230925\n",
       "4  55.142188  78.211518"
      ]
     },
     "execution_count": 1,
     "metadata": {},
     "output_type": "execute_result"
    }
   ],
   "source": [
    "import pandas as pd\n",
    "import numpy as np\n",
    "#Loading dataset\n",
    "data=pd.read_csv('data.csv')\n",
    "data=data.rename(columns={data.columns[0]:'X',data.columns[1]:'y'})\n",
    "data.head()"
   ]
  },
  {
   "cell_type": "code",
   "execution_count": 2,
   "metadata": {},
   "outputs": [],
   "source": [
    "from sklearn.model_selection import train_test_split\n",
    "X_train, X_test, y_train, y_test = train_test_split(data.X, data.y, test_size=0.20, random_state=42)"
   ]
  },
  {
   "cell_type": "code",
   "execution_count": 13,
   "metadata": {},
   "outputs": [
    {
     "data": {
      "image/png": "[encoded data removed]",
      "text/plain": [
       "<Figure size 432x288 with 1 Axes>"
      ]
     },
     "metadata": {
      "needs_background": "light"
     },
     "output_type": "display_data"
    }
   ],
   "source": [
    "import matplotlib.pyplot as plt\n",
    "plt.xlabel('X',fontsize='xx-large')\n",
    "plt.ylabel('y',fontsize='xx-large')\n",
    "plt.scatter(X_train,y_train)\n",
    "plt.show()"
   ]
  },
  {
   "cell_type": "code",
   "execution_count": 4,
   "metadata": {},
   "outputs": [],
   "source": [
    "def cost(y,ypred):\n",
    "        if len(y)!=len(ypred):\n",
    "            print(\"Error! Make sure both parameters have the same number of elements.\")\n",
    "            return None\n",
    "        return (1/len(y))*sum(y-ypred)**2"
   ]
  },
  {
   "cell_type": "code",
   "execution_count": null,
   "metadata": {},
   "outputs": [],
   "source": []
  },
  {
   "cell_type": "code",
   "execution_count": 5,
   "metadata": {},
   "outputs": [],
   "source": [
    "#Initialize parameters\n",
    "alpha=0.001\n",
    "params=np.array([0,0])"
   ]
  },
  {
   "cell_type": "code",
   "execution_count": 6,
   "metadata": {},
   "outputs": [
    {
     "name": "stdout",
     "output_type": "stream",
     "text": [
      "MSE: 18.181671263991348\n",
      "Parameters: [0.03198701 1.4955757 ]\n"
     ]
    }
   ],
   "source": [
    "#Initialize parameters\n",
    "alpha=0.0001\n",
    "params=np.array([float(0),float(0)])\n",
    "e=[]\n",
    "p=[]\n",
    "epochs=30\n",
    "for i in range(epochs):\n",
    "    #Fit model\n",
    "    predictions=params[0]+X_train*params[1]\n",
    "    p.append(params)\n",
    "    #Calculate Gradients\n",
    "    D0=(-2/len(X_train)*sum(y_train-predictions))\n",
    "    D1=(-2/len(X_train))*sum(X_train*(y_train-predictions))\n",
    "\n",
    "    #Update params\n",
    "    params[0]=params[0]-alpha*D0\n",
    "    params[1]=params[1]-alpha*D1\n",
    "    #print(params,params[0],params[1],params[0]-alpha*D0)\n",
    "    error=cost(y_train,predictions)\n",
    "    e.append(error)\n",
    "#Get predictions \n",
    "predict=params[0]+params[1]*X_train\n",
    "print(\"MSE: \",error,'\\n','Parameters: ',params,sep='')"
   ]
  },
  {
   "cell_type": "code",
   "execution_count": 7,
   "metadata": {},
   "outputs": [
    {
     "data": {
      "text/plain": [
       "[<matplotlib.lines.Line2D at 0x1a1966ee50>]"
      ]
     },
     "execution_count": 7,
     "metadata": {},
     "output_type": "execute_result"
    },
    {
     "data": {
      "image/png": "[encoded data removed]",
      "text/plain": [
       "<Figure size 432x288 with 1 Axes>"
      ]
     },
     "metadata": {
      "needs_background": "light"
     },
     "output_type": "display_data"
    }
   ],
   "source": [
    "plt.clf()\n",
    "plt.scatter(data.X, data.y) \n",
    "plt.plot([min(data.X), max(data.X)], [min(predict), max(predict)], color='red')"
   ]
  },
  {
   "cell_type": "code",
   "execution_count": 8,
   "metadata": {},
   "outputs": [
    {
     "data": {
      "text/plain": [
       "104.72228586288844"
      ]
     },
     "execution_count": 8,
     "metadata": {},
     "output_type": "execute_result"
    }
   ],
   "source": [
    "#Enter your own values and verify\n",
    "def predict(x):\n",
    "    return params[0]+params[1]*x\n",
    "predict(70)"
   ]
  },
  {
   "cell_type": "code",
   "execution_count": 9,
   "metadata": {},
   "outputs": [
    {
     "data": {
      "image/png": "[encoded data removed]",
      "text/plain": [
       "<Figure size 432x288 with 1 Axes>"
      ]
     },
     "metadata": {
      "needs_background": "light"
     },
     "output_type": "display_data"
    }
   ],
   "source": [
    "#Error With Epochs\n",
    "plt.clf()\n",
    "plt.xlabel()\n",
    "plt.ylabel(\"Error\")\n",
    "plt.plot(e, color='red')\n",
    "plt.show()"
   ]
  },
  {
   "cell_type": "code",
   "execution_count": 10,
   "metadata": {},
   "outputs": [
    {
     "data": {
      "text/plain": [
       "[440072.44068964163,\n",
       " 107287.54088610552,\n",
       " 26513.21672724843,\n",
       " 6730.123476062153,\n",
       " 1798.665155352007,\n",
       " 527.8300928764372,\n",
       " 180.67390659923748,\n",
       " 76.83761394696207,\n",
       " 41.890744742738946,\n",
       " 28.594923954964973,\n",
       " 22.998481224796546,\n",
       " 20.47594757597675,\n",
       " 19.292104392405914,\n",
       " 18.72420371435143,\n",
       " 18.448628418336796,\n",
       " 18.31407916338659,\n",
       " 18.24813391966542,\n",
       " 18.215701201543737,\n",
       " 18.199672851823774,\n",
       " 18.191682589642372,\n",
       " 18.187632931014292,\n",
       " 18.185515593813488,\n",
       " 18.184345908088265,\n",
       " 18.183640999141883,\n",
       " 18.18316404805097,\n",
       " 18.1827989053934,\n",
       " 18.182488603697276,\n",
       " 18.18220520200434,\n",
       " 18.181934995984154,\n",
       " 18.181671263991348]"
      ]
     },
     "execution_count": 10,
     "metadata": {},
     "output_type": "execute_result"
    }
   ],
   "source": [
    "e"
   ]
  },
  {
   "cell_type": "code",
   "execution_count": null,
   "metadata": {},
   "outputs": [],
   "source": []
  }
 ],
 "metadata": {
  "kernelspec": {
   "display_name": "Python 3",
   "language": "python",
   "name": "python3"
  },
  "language_info": {
   "codemirror_mode": {
    "name": "ipython",
    "version": 3
   },
   "file_extension": ".py",
   "mimetype": "text/x-python",
   "name": "python",
   "nbconvert_exporter": "python",
   "pygments_lexer": "ipython3",
   "version": "3.7.6"
  }
 },
 "nbformat": 4,
 "nbformat_minor": 4
}
